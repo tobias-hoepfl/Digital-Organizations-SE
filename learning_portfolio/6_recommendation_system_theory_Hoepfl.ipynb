{
  "nbformat": 4,
  "nbformat_minor": 0,
  "metadata": {
    "colab": {
      "provenance": [],
      "authorship_tag": "ABX9TyMcIc1Xqnw4oB4su3vYyYXC",
      "include_colab_link": true
    },
    "kernelspec": {
      "name": "python3",
      "display_name": "Python 3"
    },
    "language_info": {
      "name": "python"
    }
  },
  "cells": [
    {
      "cell_type": "markdown",
      "metadata": {
        "id": "view-in-github",
        "colab_type": "text"
      },
      "source": [
        "<a href=\"https://colab.research.google.com/github/tobias-hoepfl/Digital-Organizations-SE/blob/main/learning_portfolio/6_recommendation_system_theory_Hoepfl.ipynb\" target=\"_parent\"><img src=\"https://colab.research.google.com/assets/colab-badge.svg\" alt=\"Open In Colab\"/></a>"
      ]
    },
    {
      "cell_type": "markdown",
      "source": [
        "#Learning Portfolio: Recommendation systems"
      ],
      "metadata": {
        "id": "JsQhq2NK7DvO"
      }
    },
    {
      "cell_type": "markdown",
      "source": [
        "**Theoretical understanding:**\n",
        "\n",
        "Answers to selected questions on the fastAI chapter (https://www.kaggle.com/code/jhoward/collaborative-filtering-deep-dive/notebook)\n",
        "\n",
        "<br>\n",
        "\n",
        "**Practical understanding:**\n",
        "\n",
        "small toy example following the youtube video on collaborative filtering; also see homework and code comments that I did in the corresponding assignment (assignment 7)\n"
      ],
      "metadata": {
        "id": "M8MwR-J-LVWL"
      }
    },
    {
      "cell_type": "markdown",
      "source": [
        "## Theoretical understanding"
      ],
      "metadata": {
        "id": "N_fNT5RJMj31"
      }
    },
    {
      "cell_type": "markdown",
      "source": [
        "**What problem does collaborative filtering solve?**\n",
        "\n",
        "Recommend specific items or products to a specific user.\n",
        "\n",
        "<br>\n",
        "\n",
        "**How does it solve it?**\n",
        "\n",
        "It analyzes the behaviour of other users and based on the similarities to them it tries make predictions for users who have not yet rated a specific item or product.\n",
        "\n",
        "This approach can be used by applying cosine similarity like was shown in the youtube-video recommended (https://www.youtube.com/watch?v=Fmtorg_dmM0&ab_channel=ritvikmath).\n",
        "\n",
        "The approach used in the fastAI course works with the intuition that there are hidden (latent) features that determine what a user will most propably like.\n",
        "\n",
        "<br>\n",
        "\n",
        "**Why might a collaborative filtering predictive model fail to be a very useful recommendation system?**\n",
        "\n",
        "- Sparsity of data\n",
        "- I need a lot of data to be able to start (this might not be available for a lot of items)\n",
        "- Some highly active users might introduce a bias\n",
        "- Especially on less popular items there might be hardly any data\n",
        "\n",
        "<br>\n",
        "\n",
        "**What does a crosstab representation of collaborative filtering data look like?**\n",
        "\n",
        "Like a matrix where the rows represent the users and the columns the items.\n",
        "\n",
        "<br>\n",
        "\n",
        "**What is a latent factor? Why is it \"latent\"?**\n",
        "\n",
        "It is not directly visible in the data, but describes the underlying structure (e.g. a tendency to likes horror movie)\n",
        "\n",
        "<br>\n",
        "\n",
        "**What is an embedding matrix?**\n",
        "\n",
        "Transforms the matrix described before in a look-up table for each item-user combination (denser than the sparse matrix)\n",
        "\n",
        "<br>\n",
        "\n",
        "**Why do we need Embedding if we could use one-hot-encoded vectors for the same thing?**\n",
        "\n",
        "One-hot-encoding would transform every level to its own column, which we don't want. Therefore we use an embedding which can also display continuous features\n",
        "\n",
        "<br>\n",
        "\n",
        "**What does an embedding contain before we start training (assuming we're not using a pretrained model)?**\n",
        "\n",
        "It contains random initializations for the factors.\n",
        "\n",
        "<br>\n",
        "\n",
        "**What is the use of bias in a dot product model?**\n",
        "\n",
        "It helps us to account for the fact that some users inherently tend to give higher ratings or some items are inherently more popular.\n",
        "\n",
        "<br>\n",
        "\n",
        "**What is another name for weight decay?**\n",
        "\n",
        "L2-regularization\n",
        "\n",
        "Helps to prevent overfitting\n",
        "\n",
        "<br>\n",
        "\n",
        "**Write the equation for weight decay.**\n",
        "\n",
        "loss_with_wd = loss + wd * (parameters**2).sum()\n",
        "\n",
        "The normal loss is incremented by a \"punishing factor\" for the size of the parameters.\n",
        "\n",
        "<br>\n",
        "\n",
        "**What is the \"bootstrapping problem\" in collaborative filtering?**\n",
        "\n",
        "Give recommendations to new users or for new items\n",
        "\n",
        "<br>\n",
        "\n",
        "**How could you deal with the bootstrapping problem for new users? For new movies?**\n",
        "\n",
        "- Just give them the recommendation for an average user (e.g. overall popular movies)\n",
        "- Use other data (demographics, etc.) if available (is called metadata)\n",
        "\n",
        "<br>\n",
        "\n",
        "**What kind of model should we use if we want to add metadata about users and items, or information such as date and time, to a collaborative filtering model?**\n",
        "\n",
        "e.g. use a hybrid recommender system that combines collaborative filtering with content-based filtering or other methods"
      ],
      "metadata": {
        "id": "G6vF9fVdL3jQ"
      }
    },
    {
      "cell_type": "markdown",
      "source": [
        "## Practical understanding"
      ],
      "metadata": {
        "id": "iCdhQFud62zG"
      }
    },
    {
      "cell_type": "markdown",
      "source": [
        "I built a small toy example using the same intuition as in the Youtube video (https://www.youtube.com/watch?v=Fmtorg_dmM0) provided (but different numbers of course).\n",
        "\n",
        "We consider to have a matrix of three users and five products. The rating is given for some user-product-combinations, but not for all. Rating can be between 1 and 9.\n",
        "\n",
        "The goal is to find out, what to recommend to user 3 next."
      ],
      "metadata": {
        "id": "hvAenEXk8D5t"
      }
    },
    {
      "cell_type": "code",
      "source": [
        "import torch\n",
        "\n",
        "user_product_matrix = torch.zeros(3, 5)\n",
        "\n",
        "#user 1\n",
        "user_product_matrix[0,0] = 1\n",
        "user_product_matrix[0,1] = 2\n",
        "user_product_matrix[0,2] = 0\n",
        "user_product_matrix[0,3] = 8\n",
        "user_product_matrix[0,4] = 9\n",
        "\n",
        "#user 2\n",
        "user_product_matrix[1,0] = 8\n",
        "user_product_matrix[1,1] = 9\n",
        "user_product_matrix[1,2] = 8\n",
        "user_product_matrix[1,3] = 2\n",
        "user_product_matrix[1,4] = 1\n",
        "\n",
        "#user 3\n",
        "user_product_matrix[2,0] = 0\n",
        "user_product_matrix[2,1] = 8\n",
        "user_product_matrix[2,2] = 7\n",
        "user_product_matrix[2,3] = 1\n",
        "user_product_matrix[2,4] = 0\n",
        "\n",
        "print(user_product_matrix)"
      ],
      "metadata": {
        "colab": {
          "base_uri": "https://localhost:8080/"
        },
        "id": "Y1iKXIH1611j",
        "outputId": "3c6e184f-c92d-4cbc-9f4e-fd723641c6a7"
      },
      "execution_count": null,
      "outputs": [
        {
          "output_type": "stream",
          "name": "stdout",
          "text": [
            "tensor([[1., 2., 0., 8., 9.],\n",
            "        [8., 9., 8., 2., 1.],\n",
            "        [0., 8., 7., 1., 0.]])\n"
          ]
        }
      ]
    },
    {
      "cell_type": "markdown",
      "source": [
        "Observation:\n",
        "\n",
        "- User 1 and user 2 are very different: User 1 likes product 1 and 2, while user 2 does not like them. User 2 likes product 4 and 5, while user 1 does not\n",
        "- User 3 likes product 2 and dislikes product 4. Based on this information, he is more similar to user 1 than to user 2.\n",
        "- Intuitively, therefore product 1 should be recommended next to user 3 (because it is also liked by the similar user 1, and disliked by the different user 2)"
      ],
      "metadata": {
        "id": "ba023FsK9meK"
      }
    },
    {
      "cell_type": "code",
      "source": [
        "#As a measure of similarity we use cosine similarity\n",
        "\n",
        "from sklearn.metrics.pairwise import cosine_similarity\n",
        "\n",
        "#reshaping is necessary, because otherwise cosine_similarity does not work\n",
        "ratings_user_1 = user_product_matrix[0, :].reshape(1, -1)\n",
        "ratings_user_2 = user_product_matrix[1, :].reshape(1, -1)\n",
        "ratings_user_3 = user_product_matrix[2, :].reshape(1, -1)\n",
        "\n",
        "#Now calculate cosine similarity\n",
        "#We are only interested in user 3\n",
        "#Therefore we calculate distance between user 3 to each of the other users\n",
        "\n",
        "ratings_user_3_for_1 = (ratings_user_3[torch.logical_and(ratings_user_3 != 0, ratings_user_1 != 0)].reshape(1, -1))\n",
        "ratings_user_1_for_3 = (ratings_user_1[torch.logical_and(ratings_user_3 != 0, ratings_user_1 != 0)].reshape(1, -1))\n",
        "ratings_user_3_for_2 = (ratings_user_3[torch.logical_and(ratings_user_3 != 0, ratings_user_2 != 0)].reshape(1, -1))\n",
        "ratings_user_2_for_3 = (ratings_user_2[torch.logical_and(ratings_user_3 != 0, ratings_user_2 != 0)].reshape(1, -1))\n",
        "\n",
        "cos_sim_3_1 = cosine_similarity(ratings_user_3_for_1, ratings_user_1_for_3)\n",
        "cos_sim_3_2 = cosine_similarity(ratings_user_3_for_2, ratings_user_2_for_3)\n",
        "\n",
        "print('Similarity between user 3 and user 1:', cos_sim_3_1)\n",
        "print('Similarity between user 3 and user 2:', cos_sim_3_2)"
      ],
      "metadata": {
        "colab": {
          "base_uri": "https://localhost:8080/"
        },
        "id": "VUHWSOIO9l9g",
        "outputId": "ad6ae5de-2b4f-4aaf-f547-e8dec20d82c1"
      },
      "execution_count": null,
      "outputs": [
        {
          "output_type": "stream",
          "name": "stdout",
          "text": [
            "Similarity between user 3 and user 1: [[0.3609941]]\n",
            "Similarity between user 3 and user 2: [[0.9974653]]\n"
          ]
        }
      ]
    },
    {
      "cell_type": "markdown",
      "source": [
        "As expected, similarity for user 3 is much higher to user 2"
      ],
      "metadata": {
        "id": "nTOERdnAHeT3"
      }
    },
    {
      "cell_type": "code",
      "source": [
        "rec_score_prod_1 = (cos_sim_3_1 * ratings_user_1[0][0].item() + cos_sim_3_2 * ratings_user_2[0][0].item())/(cos_sim_3_1 + cos_sim_3_2)\n",
        "rec_score_prod_5 = (cos_sim_3_1 * ratings_user_1[0][4].item() + cos_sim_3_2 * ratings_user_2[0][4].item())/(cos_sim_3_1 + cos_sim_3_2)\n",
        "\n",
        "print('Product 1:', rec_score_prod_1)\n",
        "print('Product 5:', rec_score_prod_5)"
      ],
      "metadata": {
        "colab": {
          "base_uri": "https://localhost:8080/"
        },
        "id": "vITnHreAHV_I",
        "outputId": "8c509a4c-033c-4054-9ce2-42571a67e614"
      },
      "execution_count": null,
      "outputs": [
        {
          "output_type": "stream",
          "name": "stdout",
          "text": [
            "Product 1: [[6.1398344]]\n",
            "Product 5: [[3.125903]]\n"
          ]
        }
      ]
    },
    {
      "cell_type": "markdown",
      "source": [
        "As expected, the recomended score for user 3 is higher for product 1 than for product 5. Therefore, next we will recommend product 1 to him."
      ],
      "metadata": {
        "id": "mQBh7ojDNa6h"
      }
    }
  ]
}